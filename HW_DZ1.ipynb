{
 "cells": [
  {
   "cell_type": "code",
   "execution_count": 58,
   "id": "initial_id",
   "metadata": {
    "collapsed": true,
    "jupyter": {
     "outputs_hidden": true
    },
    "ExecuteTime": {
     "end_time": "2023-08-12T01:11:19.964412682Z",
     "start_time": "2023-08-12T01:11:19.814072801Z"
    }
   },
   "outputs": [
    {
     "name": "stdout",
     "output_type": "stream",
     "text": [
      "[ 1  2  3  4  5  6  7  8  9 10]\n"
     ]
    }
   ],
   "source": [
    "import numpy as np\n",
    "\n",
    "# (#1) Створіть одновимірний масив (вектор) з першими 10-ма натуральними числами та виведіть його значення.\n",
    "\n",
    "# Створення масиву з першими 10-ма натуральними числами за допомогою NumPy\n",
    "natural_numbers = np.arange(1, 11)\n",
    "\n",
    "# Виведення значень масиву\n",
    "print(natural_numbers)\n",
    "      "
   ]
  },
  {
   "cell_type": "code",
   "execution_count": 59,
   "outputs": [
    {
     "name": "stdout",
     "output_type": "stream",
     "text": [
      "[[0. 0. 0.]\n",
      " [0. 0. 0.]\n",
      " [0. 0. 0.]]\n"
     ]
    }
   ],
   "source": [
    "# (#2) Створіть двовимірний масив (матрицю) розміром 3x3, заповніть його нулями та виведіть його значення.\n",
    "\n",
    "# Створення двовимірної матриці розміром 3*3, заповненої нулями.\n",
    "matrix = np.zeros((3, 3))\n",
    "\n",
    "# Виведення значень матриці.\n",
    "print(matrix)"
   ],
   "metadata": {
    "collapsed": false,
    "ExecuteTime": {
     "end_time": "2023-08-12T01:11:19.965338094Z",
     "start_time": "2023-08-12T01:11:19.870668063Z"
    }
   },
   "id": "f308a46a1a935dc"
  },
  {
   "cell_type": "code",
   "execution_count": 60,
   "outputs": [
    {
     "name": "stdout",
     "output_type": "stream",
     "text": [
      "[[ 2  1  2  3  4]\n",
      " [ 8  9  6  3  5]\n",
      " [10 10  9  2  5]\n",
      " [ 7  5  6  2 10]\n",
      " [ 8  7  9  1  8]]\n"
     ]
    }
   ],
   "source": [
    "# (#3) Створіть масив розміром 5x5, заповніть його випадковими цілими числами в діапазоні від 1 до 10 та виведіть його значення.\n",
    "\n",
    "# Розмірність таблиці\n",
    "rows = 5\n",
    "cols = 5\n",
    "\n",
    "# Створення масиву розміром 5*5 з випадковими цілими числами від 1 до 10.\n",
    "matrix = np.random.randint(1, 11, size=(rows, cols))\n",
    "\n",
    "# Виведення значень масиву.\n",
    "print(matrix)"
   ],
   "metadata": {
    "collapsed": false,
    "ExecuteTime": {
     "end_time": "2023-08-12T01:11:19.976774728Z",
     "start_time": "2023-08-12T01:11:19.879263341Z"
    }
   },
   "id": "d26793f56148ed79"
  },
  {
   "cell_type": "code",
   "execution_count": 61,
   "outputs": [
    {
     "name": "stdout",
     "output_type": "stream",
     "text": [
      "[[0.58098298 0.58915451 0.68042716 0.9964032 ]\n",
      " [0.19734104 0.90114728 0.14853016 0.52149701]\n",
      " [0.72572361 0.55034706 0.80886471 0.32453669]\n",
      " [0.35307852 0.14716573 0.14143032 0.73279654]]\n"
     ]
    }
   ],
   "source": [
    "# (#4) Створіть масив розміром 4x4, заповніть його випадковими дійсними числами в діапазоні від 0 до 1 та виведіть його значення.\n",
    "\n",
    "# Розмірність матриці.\n",
    "rows = 4\n",
    "cols = 4\n",
    "\n",
    "# Створення масиву 4*4 з випадковими дійсними числами від 0 до 1.\n",
    "matrix = np.random.rand(rows, cols)\n",
    "\n",
    "# Виведення значень масиву.\n",
    "print(matrix)"
   ],
   "metadata": {
    "collapsed": false,
    "ExecuteTime": {
     "end_time": "2023-08-12T01:11:19.978391487Z",
     "start_time": "2023-08-12T01:11:19.922640694Z"
    }
   },
   "id": "4816768b2d47a8b4"
  },
  {
   "cell_type": "code",
   "execution_count": 62,
   "outputs": [
    {
     "name": "stdout",
     "output_type": "stream",
     "text": [
      "Масив 1 [6 3 3 3 4]\n",
      "Масив 2 [ 6  8 10 10  6]\n",
      "Додавання [12 11 13 13 10]\n",
      "Віднімння [ 0 -5 -7 -7 -2]\n",
      "Множення [36 24 30 30 24]\n"
     ]
    }
   ],
   "source": [
    "# (#5) Створіть два одновимірних масиви розміром 5, заповніть їх випадковими цілими числами в діапазоні від 1 до 10 та виконайте на них поелементні операції додавання, віднімання та множення.\n",
    "\n",
    "# Розмірність масиву.\n",
    "size = 5\n",
    "\n",
    "# Створення двох масивів розміром 5, з випадковими цілими числами від 1 до 10.\n",
    "array1 = np.random.randint(1, 11, size= size)\n",
    "array2 = np.random.randint(1, 11, size=size)\n",
    "\n",
    "print(\"Масив 1\", array1)\n",
    "print(\"Масив 2\", array2)\n",
    "\n",
    "# Поелементне додавання\n",
    "sum_result = array1 + array2\n",
    "print(\"Додавання\", sum_result)\n",
    "\n",
    "# Поелементне віднімання\n",
    "subtract_result = array1 - array2\n",
    "print(\"Віднімння\", subtract_result)\n",
    "\n",
    "# Поелементне множення\n",
    "multiply_result = array1 * array2\n",
    "print(\"Множення\", multiply_result)"
   ],
   "metadata": {
    "collapsed": false,
    "ExecuteTime": {
     "end_time": "2023-08-12T01:11:19.991425642Z",
     "start_time": "2023-08-12T01:11:19.923362323Z"
    }
   },
   "id": "55af2ce0535b853e"
  },
  {
   "cell_type": "code",
   "execution_count": 63,
   "outputs": [
    {
     "name": "stdout",
     "output_type": "stream",
     "text": [
      "Вектор 1 [0.16862586 0.76763651 0.52888992 0.57002132 0.16126324 0.04662008\n",
      " 0.89127324]\n",
      "Вектор 2 [0.58675148 0.94449394 0.37226814 0.07857936 0.79533923 0.27726781\n",
      " 0.85350371]\n",
      "Скалярний добуток:  1.9675405228780867\n"
     ]
    }
   ],
   "source": [
    "# (#6) Створіть два вектори розміром 7, заповніть довільними числами та знайдіть їх скалярний добуток.\n",
    "\n",
    "# Розмірність векторів\n",
    "size = 7\n",
    "\n",
    "# Створення двох векторів з довільними числами.\n",
    "vector1 = np.random.rand(size)\n",
    "vector2 = np.random.rand(size)\n",
    "\n",
    "# Знаходження скалярного добутку.\n",
    "dot_product = np.dot(vector1, vector2)\n",
    "\n",
    "print(\"Вектор 1\", vector1)\n",
    "print(\"Вектор 2\", vector2)\n",
    "print(\"Скалярний добуток: \", dot_product)"
   ],
   "metadata": {
    "collapsed": false,
    "ExecuteTime": {
     "end_time": "2023-08-12T01:11:19.994527048Z",
     "start_time": "2023-08-12T01:11:19.966571Z"
    }
   },
   "id": "8ec849825fa7e9fe"
  },
  {
   "cell_type": "code",
   "execution_count": 64,
   "outputs": [
    {
     "name": "stdout",
     "output_type": "stream",
     "text": [
      "Матриця 1:\n",
      "[[9 1]\n",
      " [3 1]]\n",
      "Матриця 2:\n",
      "[[7 7]\n",
      " [8 6]]\n",
      "Результат перемноження:\n",
      "[[71 69]\n",
      " [29 27]]\n"
     ]
    }
   ],
   "source": [
    "# (#7) Створіть дві матриці розміром 2x2 та 2x3, заповніть їх випадковими цілими числами в діапазоні від 1 до 10 та перемножте їх між собою.\n",
    "\n",
    "# Розмірності матриць.\n",
    "rows1, cols1 = 2, 2\n",
    "rows2, cols2 = 2, 3\n",
    "\n",
    "# Створення двох матриць з випадковими цілими числами від 1 до 10.\n",
    "matrix1 = np.random.randint(1, 11, size=(rows1, rows1))\n",
    "matrix2 = np.random.randint(1, 11, size=(rows2, rows2))\n",
    "\n",
    "# Перемноження матриць.\n",
    "product =np.dot(matrix1, matrix2)\n",
    "\n",
    "print(\"Матриця 1:\")\n",
    "print(matrix1)\n",
    "\n",
    "print(\"Матриця 2:\")\n",
    "print(matrix2)\n",
    "\n",
    "print(\"Результат перемноження:\")\n",
    "print(product)"
   ],
   "metadata": {
    "collapsed": false,
    "ExecuteTime": {
     "end_time": "2023-08-12T01:11:19.996581413Z",
     "start_time": "2023-08-12T01:11:19.967085541Z"
    }
   },
   "id": "962e844305d8cd4a"
  }
 ],
 "metadata": {
  "kernelspec": {
   "display_name": "Python 3 (ipykernel)",
   "language": "python",
   "name": "python3"
  },
  "language_info": {
   "codemirror_mode": {
    "name": "ipython",
    "version": 3
   },
   "file_extension": ".py",
   "mimetype": "text/x-python",
   "name": "python",
   "nbconvert_exporter": "python",
   "pygments_lexer": "ipython3",
   "version": "3.10.12"
  }
 },
 "nbformat": 4,
 "nbformat_minor": 5
}
